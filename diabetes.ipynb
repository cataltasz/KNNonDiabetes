{
  "nbformat": 4,
  "nbformat_minor": 0,
  "metadata": {
    "colab": {
      "name": "diabetes.ipynb",
      "provenance": []
    },
    "kernelspec": {
      "name": "python3",
      "display_name": "Python 3"
    },
    "language_info": {
      "name": "python"
    }
  },
  "cells": [
    {
      "cell_type": "markdown",
      "metadata": {
        "id": "09VTSczkJufo"
      },
      "source": [
        "# Importing necessary libraries and setting up the environment\n",
        "Colab environment is made ready for working and dataset is downloaded from Kaggle and ready to use. "
      ]
    },
    {
      "cell_type": "markdown",
      "metadata": {
        "id": "ktQQDQWJ5ijh"
      },
      "source": [
        "#### Setup environment"
      ]
    },
    {
      "cell_type": "code",
      "metadata": {
        "id": "uwYCsPaGJVYY"
      },
      "source": [
        "# imports\n",
        "from mlxtend.plotting import plot_decision_regions\n",
        "import numpy as np\n",
        "import pandas as pd\n",
        "import matplotlib.pyplot as plt\n",
        "import seaborn as sns\n",
        "sns.set()\n",
        "%matplotlib inline"
      ],
      "execution_count": 1,
      "outputs": []
    },
    {
      "cell_type": "code",
      "metadata": {
        "id": "2R8t_yzSJb8j",
        "colab": {
          "base_uri": "https://localhost:8080/"
        },
        "outputId": "fc275d4b-4414-47bf-f4dc-f1fbdc9a959b"
      },
      "source": [
        "# connect to drive\n",
        "from google.colab import drive\n",
        "drive.mount('/content/drive')"
      ],
      "execution_count": 2,
      "outputs": [
        {
          "output_type": "stream",
          "text": [
            "Mounted at /content/drive\n"
          ],
          "name": "stdout"
        }
      ]
    },
    {
      "cell_type": "code",
      "metadata": {
        "id": "DTCsDTVKKvGf",
        "colab": {
          "base_uri": "https://localhost:8080/"
        },
        "outputId": "3c21c3f5-b66b-4e19-8ca8-5bf04f580e3d"
      },
      "source": [
        "# change directory to kaggle folder. \n",
        "import os\n",
        "os.environ['KAGGLE_CONFIG_DIR'] = \"/content/drive/My Drive/Kaggle\"\n",
        "%cd /content/drive/My Drive/Kaggle"
      ],
      "execution_count": 3,
      "outputs": [
        {
          "output_type": "stream",
          "text": [
            "/content/drive/My Drive/Kaggle\n"
          ],
          "name": "stdout"
        }
      ]
    },
    {
      "cell_type": "markdown",
      "metadata": {
        "id": "8NjmjNk35Uqu"
      },
      "source": [
        "#### Download Dataset"
      ]
    },
    {
      "cell_type": "code",
      "metadata": {
        "colab": {
          "base_uri": "https://localhost:8080/"
        },
        "id": "3xOx3Q6tMCHW",
        "outputId": "90c97d17-75e2-41e9-f76d-3f0a49bc8a41"
      },
      "source": [
        "# download dataset from kaggle\n",
        "!kaggle datasets download -d dslearner0406/diabetes-dataset"
      ],
      "execution_count": null,
      "outputs": [
        {
          "output_type": "stream",
          "text": [
            "Downloading diabetes-dataset.zip to /content/drive/My Drive/Kaggle\n",
            "\r  0% 0.00/11.8k [00:00<?, ?B/s]\n",
            "\r100% 11.8k/11.8k [00:00<00:00, 1.52MB/s]\n"
          ],
          "name": "stdout"
        }
      ]
    },
    {
      "cell_type": "code",
      "metadata": {
        "id": "Nj5KSZOTL7w6"
      },
      "source": [
        "# unzip train.csv\n",
        "!unzip \\*.zip  && rm *.zip"
      ],
      "execution_count": null,
      "outputs": []
    },
    {
      "cell_type": "markdown",
      "metadata": {
        "id": "PTptbfmPNJra"
      },
      "source": [
        "# Data Description and Preprocessing on Dataset\n",
        "\n",
        "\n",
        "Data is loaded to memory. Then basic statistics are displayed and preprocessing is applied to dataset based on these statistics."
      ]
    },
    {
      "cell_type": "markdown",
      "metadata": {
        "id": "hZzd2smU85pq"
      },
      "source": [
        "## Loading dataset to memory"
      ]
    },
    {
      "cell_type": "code",
      "metadata": {
        "id": "_w-n_jEcNUc6"
      },
      "source": [
        "# Load dataset using pandas\n",
        "diabetes_dataset = pd.read_csv('diabetes.csv')"
      ],
      "execution_count": 4,
      "outputs": []
    },
    {
      "cell_type": "markdown",
      "metadata": {
        "id": "PIcAQXSA9AQM"
      },
      "source": [
        "## Statistics and removal of outliers"
      ]
    },
    {
      "cell_type": "code",
      "metadata": {
        "id": "GrMSWRRqNi-0",
        "colab": {
          "base_uri": "https://localhost:8080/",
          "height": 0
        },
        "outputId": "cf94cb6a-ebaa-4ada-d938-a489081af502"
      },
      "source": [
        "# Show basic statistics of dataset\n",
        "diabetes_dataset.describe()"
      ],
      "execution_count": 5,
      "outputs": [
        {
          "output_type": "execute_result",
          "data": {
            "text/html": [
              "<div>\n",
              "<style scoped>\n",
              "    .dataframe tbody tr th:only-of-type {\n",
              "        vertical-align: middle;\n",
              "    }\n",
              "\n",
              "    .dataframe tbody tr th {\n",
              "        vertical-align: top;\n",
              "    }\n",
              "\n",
              "    .dataframe thead th {\n",
              "        text-align: right;\n",
              "    }\n",
              "</style>\n",
              "<table border=\"1\" class=\"dataframe\">\n",
              "  <thead>\n",
              "    <tr style=\"text-align: right;\">\n",
              "      <th></th>\n",
              "      <th>Pregnancies</th>\n",
              "      <th>Glucose</th>\n",
              "      <th>BloodPressure</th>\n",
              "      <th>SkinThickness</th>\n",
              "      <th>Insulin</th>\n",
              "      <th>BMI</th>\n",
              "      <th>DiabetesPedigreeFunction</th>\n",
              "      <th>Age</th>\n",
              "      <th>Outcome</th>\n",
              "      <th>CalorieIntake</th>\n",
              "      <th>SleepDuration</th>\n",
              "    </tr>\n",
              "  </thead>\n",
              "  <tbody>\n",
              "    <tr>\n",
              "      <th>count</th>\n",
              "      <td>768.000000</td>\n",
              "      <td>768.000000</td>\n",
              "      <td>768.000000</td>\n",
              "      <td>768.000000</td>\n",
              "      <td>768.000000</td>\n",
              "      <td>768.000000</td>\n",
              "      <td>768.000000</td>\n",
              "      <td>768.000000</td>\n",
              "      <td>768.000000</td>\n",
              "      <td>753.000000</td>\n",
              "      <td>768.000000</td>\n",
              "    </tr>\n",
              "    <tr>\n",
              "      <th>mean</th>\n",
              "      <td>1.458333</td>\n",
              "      <td>120.894531</td>\n",
              "      <td>69.105469</td>\n",
              "      <td>20.536458</td>\n",
              "      <td>79.799479</td>\n",
              "      <td>31.992578</td>\n",
              "      <td>0.471876</td>\n",
              "      <td>33.240885</td>\n",
              "      <td>0.348958</td>\n",
              "      <td>3639.595352</td>\n",
              "      <td>6.954427</td>\n",
              "    </tr>\n",
              "    <tr>\n",
              "      <th>std</th>\n",
              "      <td>1.453614</td>\n",
              "      <td>31.972618</td>\n",
              "      <td>19.355807</td>\n",
              "      <td>15.952218</td>\n",
              "      <td>115.244002</td>\n",
              "      <td>7.884160</td>\n",
              "      <td>0.331329</td>\n",
              "      <td>11.760232</td>\n",
              "      <td>0.476951</td>\n",
              "      <td>1694.490299</td>\n",
              "      <td>1.674802</td>\n",
              "    </tr>\n",
              "    <tr>\n",
              "      <th>min</th>\n",
              "      <td>0.000000</td>\n",
              "      <td>0.000000</td>\n",
              "      <td>0.000000</td>\n",
              "      <td>0.000000</td>\n",
              "      <td>0.000000</td>\n",
              "      <td>0.000000</td>\n",
              "      <td>0.078000</td>\n",
              "      <td>21.000000</td>\n",
              "      <td>0.000000</td>\n",
              "      <td>380.000000</td>\n",
              "      <td>4.000000</td>\n",
              "    </tr>\n",
              "    <tr>\n",
              "      <th>25%</th>\n",
              "      <td>0.000000</td>\n",
              "      <td>99.000000</td>\n",
              "      <td>62.000000</td>\n",
              "      <td>0.000000</td>\n",
              "      <td>0.000000</td>\n",
              "      <td>27.300000</td>\n",
              "      <td>0.243750</td>\n",
              "      <td>24.000000</td>\n",
              "      <td>0.000000</td>\n",
              "      <td>2620.000000</td>\n",
              "      <td>6.000000</td>\n",
              "    </tr>\n",
              "    <tr>\n",
              "      <th>50%</th>\n",
              "      <td>1.000000</td>\n",
              "      <td>117.000000</td>\n",
              "      <td>72.000000</td>\n",
              "      <td>23.000000</td>\n",
              "      <td>30.500000</td>\n",
              "      <td>32.000000</td>\n",
              "      <td>0.372500</td>\n",
              "      <td>29.000000</td>\n",
              "      <td>0.000000</td>\n",
              "      <td>2893.000000</td>\n",
              "      <td>7.000000</td>\n",
              "    </tr>\n",
              "    <tr>\n",
              "      <th>75%</th>\n",
              "      <td>3.000000</td>\n",
              "      <td>140.250000</td>\n",
              "      <td>80.000000</td>\n",
              "      <td>32.000000</td>\n",
              "      <td>127.250000</td>\n",
              "      <td>36.600000</td>\n",
              "      <td>0.626250</td>\n",
              "      <td>41.000000</td>\n",
              "      <td>1.000000</td>\n",
              "      <td>4100.000000</td>\n",
              "      <td>8.000000</td>\n",
              "    </tr>\n",
              "    <tr>\n",
              "      <th>max</th>\n",
              "      <td>5.000000</td>\n",
              "      <td>199.000000</td>\n",
              "      <td>122.000000</td>\n",
              "      <td>99.000000</td>\n",
              "      <td>846.000000</td>\n",
              "      <td>67.100000</td>\n",
              "      <td>2.420000</td>\n",
              "      <td>81.000000</td>\n",
              "      <td>1.000000</td>\n",
              "      <td>9990.000000</td>\n",
              "      <td>15.000000</td>\n",
              "    </tr>\n",
              "  </tbody>\n",
              "</table>\n",
              "</div>"
            ],
            "text/plain": [
              "       Pregnancies     Glucose  ...  CalorieIntake  SleepDuration\n",
              "count   768.000000  768.000000  ...     753.000000     768.000000\n",
              "mean      1.458333  120.894531  ...    3639.595352       6.954427\n",
              "std       1.453614   31.972618  ...    1694.490299       1.674802\n",
              "min       0.000000    0.000000  ...     380.000000       4.000000\n",
              "25%       0.000000   99.000000  ...    2620.000000       6.000000\n",
              "50%       1.000000  117.000000  ...    2893.000000       7.000000\n",
              "75%       3.000000  140.250000  ...    4100.000000       8.000000\n",
              "max       5.000000  199.000000  ...    9990.000000      15.000000\n",
              "\n",
              "[8 rows x 11 columns]"
            ]
          },
          "metadata": {
            "tags": []
          },
          "execution_count": 5
        }
      ]
    },
    {
      "cell_type": "code",
      "metadata": {
        "colab": {
          "base_uri": "https://localhost:8080/"
        },
        "id": "gBJDDCPfMTcj",
        "outputId": "76606edd-4f7d-4fd2-e8cd-da5e24e574c0"
      },
      "source": [
        "# Show detailed info about dataset and columns. \n",
        "diabetes_dataset.info()"
      ],
      "execution_count": 6,
      "outputs": [
        {
          "output_type": "stream",
          "text": [
            "<class 'pandas.core.frame.DataFrame'>\n",
            "RangeIndex: 768 entries, 0 to 767\n",
            "Data columns (total 13 columns):\n",
            " #   Column                    Non-Null Count  Dtype  \n",
            "---  ------                    --------------  -----  \n",
            " 0   Pregnancies               768 non-null    int64  \n",
            " 1   Gender                    768 non-null    object \n",
            " 2   Glucose                   768 non-null    int64  \n",
            " 3   BloodPressure             768 non-null    int64  \n",
            " 4   SkinThickness             768 non-null    int64  \n",
            " 5   Insulin                   768 non-null    int64  \n",
            " 6   BMI                       768 non-null    float64\n",
            " 7   DiabetesPedigreeFunction  768 non-null    float64\n",
            " 8   Age                       768 non-null    int64  \n",
            " 9   Outcome                   768 non-null    int64  \n",
            " 10  CalorieIntake             753 non-null    float64\n",
            " 11  Exercise                  768 non-null    object \n",
            " 12  SleepDuration             768 non-null    int64  \n",
            "dtypes: float64(3), int64(8), object(2)\n",
            "memory usage: 78.1+ KB\n"
          ],
          "name": "stdout"
        }
      ]
    },
    {
      "cell_type": "code",
      "metadata": {
        "id": "--rT7w35P_wA",
        "colab": {
          "base_uri": "https://localhost:8080/",
          "height": 0
        },
        "outputId": "100af7f2-9392-4b52-d17f-adc18b1aaa4d"
      },
      "source": [
        "# Show first 5 rows of dataset\n",
        "diabetes_dataset.head()"
      ],
      "execution_count": 7,
      "outputs": [
        {
          "output_type": "execute_result",
          "data": {
            "text/html": [
              "<div>\n",
              "<style scoped>\n",
              "    .dataframe tbody tr th:only-of-type {\n",
              "        vertical-align: middle;\n",
              "    }\n",
              "\n",
              "    .dataframe tbody tr th {\n",
              "        vertical-align: top;\n",
              "    }\n",
              "\n",
              "    .dataframe thead th {\n",
              "        text-align: right;\n",
              "    }\n",
              "</style>\n",
              "<table border=\"1\" class=\"dataframe\">\n",
              "  <thead>\n",
              "    <tr style=\"text-align: right;\">\n",
              "      <th></th>\n",
              "      <th>Pregnancies</th>\n",
              "      <th>Gender</th>\n",
              "      <th>Glucose</th>\n",
              "      <th>BloodPressure</th>\n",
              "      <th>SkinThickness</th>\n",
              "      <th>Insulin</th>\n",
              "      <th>BMI</th>\n",
              "      <th>DiabetesPedigreeFunction</th>\n",
              "      <th>Age</th>\n",
              "      <th>Outcome</th>\n",
              "      <th>CalorieIntake</th>\n",
              "      <th>Exercise</th>\n",
              "      <th>SleepDuration</th>\n",
              "    </tr>\n",
              "  </thead>\n",
              "  <tbody>\n",
              "    <tr>\n",
              "      <th>0</th>\n",
              "      <td>0</td>\n",
              "      <td>M</td>\n",
              "      <td>148</td>\n",
              "      <td>72</td>\n",
              "      <td>35</td>\n",
              "      <td>0</td>\n",
              "      <td>33.6</td>\n",
              "      <td>0.627</td>\n",
              "      <td>50</td>\n",
              "      <td>1</td>\n",
              "      <td>2508.3</td>\n",
              "      <td>No</td>\n",
              "      <td>6</td>\n",
              "    </tr>\n",
              "    <tr>\n",
              "      <th>1</th>\n",
              "      <td>1</td>\n",
              "      <td>F</td>\n",
              "      <td>85</td>\n",
              "      <td>66</td>\n",
              "      <td>29</td>\n",
              "      <td>0</td>\n",
              "      <td>26.6</td>\n",
              "      <td>0.351</td>\n",
              "      <td>31</td>\n",
              "      <td>0</td>\n",
              "      <td>2760.0</td>\n",
              "      <td>Evening</td>\n",
              "      <td>8</td>\n",
              "    </tr>\n",
              "    <tr>\n",
              "      <th>2</th>\n",
              "      <td>0</td>\n",
              "      <td>M</td>\n",
              "      <td>183</td>\n",
              "      <td>64</td>\n",
              "      <td>0</td>\n",
              "      <td>0</td>\n",
              "      <td>23.3</td>\n",
              "      <td>0.672</td>\n",
              "      <td>32</td>\n",
              "      <td>1</td>\n",
              "      <td>6480.0</td>\n",
              "      <td>Morning</td>\n",
              "      <td>8</td>\n",
              "    </tr>\n",
              "    <tr>\n",
              "      <th>3</th>\n",
              "      <td>1</td>\n",
              "      <td>F</td>\n",
              "      <td>89</td>\n",
              "      <td>66</td>\n",
              "      <td>23</td>\n",
              "      <td>94</td>\n",
              "      <td>28.1</td>\n",
              "      <td>0.167</td>\n",
              "      <td>21</td>\n",
              "      <td>0</td>\n",
              "      <td>NaN</td>\n",
              "      <td>Evening</td>\n",
              "      <td>8</td>\n",
              "    </tr>\n",
              "    <tr>\n",
              "      <th>4</th>\n",
              "      <td>0</td>\n",
              "      <td>M</td>\n",
              "      <td>137</td>\n",
              "      <td>40</td>\n",
              "      <td>35</td>\n",
              "      <td>168</td>\n",
              "      <td>43.1</td>\n",
              "      <td>2.288</td>\n",
              "      <td>33</td>\n",
              "      <td>1</td>\n",
              "      <td>1970.0</td>\n",
              "      <td>No</td>\n",
              "      <td>9</td>\n",
              "    </tr>\n",
              "  </tbody>\n",
              "</table>\n",
              "</div>"
            ],
            "text/plain": [
              "   Pregnancies Gender  Glucose  ...  CalorieIntake  Exercise  SleepDuration\n",
              "0            0      M      148  ...         2508.3        No              6\n",
              "1            1      F       85  ...         2760.0   Evening              8\n",
              "2            0      M      183  ...         6480.0   Morning              8\n",
              "3            1      F       89  ...            NaN   Evening              8\n",
              "4            0      M      137  ...         1970.0        No              9\n",
              "\n",
              "[5 rows x 13 columns]"
            ]
          },
          "metadata": {
            "tags": []
          },
          "execution_count": 7
        }
      ]
    },
    {
      "cell_type": "markdown",
      "metadata": {
        "id": "V8mTGMqzj_gp"
      },
      "source": [
        "## Preprocessing"
      ]
    },
    {
      "cell_type": "markdown",
      "metadata": {
        "id": "BT5QP2mXkEy9"
      },
      "source": [
        "### Convert textual categorical columns to numeric labels"
      ]
    },
    {
      "cell_type": "code",
      "metadata": {
        "id": "eJ3UnjofxJp6"
      },
      "source": [
        "# Convert textual categorical columns to numeric labels. --> \"Gender\", \"Exercise\"\n",
        "diabetes_dataset[\"Gender\"] = diabetes_dataset[\"Gender\"].astype('category').cat.codes\n",
        "diabetes_dataset[\"Exercise\"] = diabetes_dataset[\"Exercise\"].astype('category').cat.codes"
      ],
      "execution_count": 8,
      "outputs": []
    },
    {
      "cell_type": "markdown",
      "metadata": {
        "id": "3waRmsXrkMqn"
      },
      "source": [
        "### Handing outlier/Nan values"
      ]
    },
    {
      "cell_type": "code",
      "metadata": {
        "id": "V42kYbaOQpyC"
      },
      "source": [
        "# As can be seen from dataset info, there are no NaN values in the dataset. \n",
        "# However, some values can not be correct for some columns, e.g. Glucose=0. \n",
        "# We need to remove or replace those values. \n",
        "misleading_fields = ['Glucose','BloodPressure','SkinThickness','Insulin','BMI']"
      ],
      "execution_count": 9,
      "outputs": []
    },
    {
      "cell_type": "code",
      "metadata": {
        "colab": {
          "base_uri": "https://localhost:8080/"
        },
        "id": "h7zepNpSNnCn",
        "outputId": "ecf7e2a5-bcb2-4740-cc8d-4083a9ff141e"
      },
      "source": [
        "diabetes_dataset[misleading_fields] = diabetes_dataset[misleading_fields].replace(0,np.NaN)\n",
        "\n",
        "## showing the count of Nans\n",
        "print(diabetes_dataset.isnull().sum())"
      ],
      "execution_count": 10,
      "outputs": [
        {
          "output_type": "stream",
          "text": [
            "Pregnancies                   0\n",
            "Gender                        0\n",
            "Glucose                       5\n",
            "BloodPressure                35\n",
            "SkinThickness               227\n",
            "Insulin                     374\n",
            "BMI                          11\n",
            "DiabetesPedigreeFunction      0\n",
            "Age                           0\n",
            "Outcome                       0\n",
            "CalorieIntake                15\n",
            "Exercise                      0\n",
            "SleepDuration                 0\n",
            "dtype: int64\n"
          ],
          "name": "stdout"
        }
      ]
    },
    {
      "cell_type": "code",
      "metadata": {
        "id": "AarNgy_mz8mB"
      },
      "source": [
        "# Drop rows that have NaN in the important columns. --> Glucose, BMI, CalorieIntake\n",
        "diabetes_dataset.dropna(subset=['Glucose', 'BMI', 'CalorieIntake'], inplace=True)"
      ],
      "execution_count": 11,
      "outputs": []
    },
    {
      "cell_type": "code",
      "metadata": {
        "colab": {
          "base_uri": "https://localhost:8080/"
        },
        "id": "VPfE_uwl05Wi",
        "outputId": "42bd1e8b-34fa-4728-d2fe-4305e1bd7f36"
      },
      "source": [
        "print(diabetes_dataset.isnull().sum())"
      ],
      "execution_count": 12,
      "outputs": [
        {
          "output_type": "stream",
          "text": [
            "Pregnancies                   0\n",
            "Gender                        0\n",
            "Glucose                       0\n",
            "BloodPressure                27\n",
            "SkinThickness               216\n",
            "Insulin                     352\n",
            "BMI                           0\n",
            "DiabetesPedigreeFunction      0\n",
            "Age                           0\n",
            "Outcome                       0\n",
            "CalorieIntake                 0\n",
            "Exercise                      0\n",
            "SleepDuration                 0\n",
            "dtype: int64\n"
          ],
          "name": "stdout"
        }
      ]
    },
    {
      "cell_type": "code",
      "metadata": {
        "id": "byDvw76qE9qS"
      },
      "source": [
        "def replaceMedian(df, column):\n",
        "  df[column].fillna(df[column].mean(), inplace = True)"
      ],
      "execution_count": 13,
      "outputs": []
    },
    {
      "cell_type": "code",
      "metadata": {
        "id": "cXH6P4YoFO-l"
      },
      "source": [
        "for field in misleading_fields:\n",
        "  replaceMedian(diabetes_dataset, field)"
      ],
      "execution_count": 14,
      "outputs": []
    },
    {
      "cell_type": "markdown",
      "metadata": {
        "id": "Tjf2sg9KkhTo"
      },
      "source": [
        "## Visualization after preprocessing"
      ]
    },
    {
      "cell_type": "code",
      "metadata": {
        "id": "yZ1ZY1RUFyRq",
        "colab": {
          "base_uri": "https://localhost:8080/",
          "height": 1000
        },
        "outputId": "99d3cd27-1532-463f-ee31-10793cf07ec0"
      },
      "source": [
        "p = diabetes_dataset.hist(figsize = (20,20))"
      ],
      "execution_count": 15,
      "outputs": [
        {
          "output_type": "display_data",
          "data": {
            "image/png": "[encoded data removed]",
            "text/plain": [
              "<Figure size 1440x1440 with 16 Axes>"
            ]
          },
          "metadata": {
            "tags": [],
            "needs_background": "light"
          }
        }
      ]
    },
    {
      "cell_type": "code",
      "metadata": {
        "colab": {
          "base_uri": "https://localhost:8080/",
          "height": 286
        },
        "id": "izRYsxikF7ae",
        "outputId": "243370aa-6be9-40cd-d0a0-4d140ebeb724"
      },
      "source": [
        "diabetes_dataset.Outcome.value_counts().plot(kind=\"bar\")"
      ],
      "execution_count": 16,
      "outputs": [
        {
          "output_type": "execute_result",
          "data": {
            "text/plain": [
              "<matplotlib.axes._subplots.AxesSubplot at 0x7f261cf17d50>"
            ]
          },
          "metadata": {
            "tags": []
          },
          "execution_count": 16
        },
        {
          "output_type": "display_data",
          "data": {
            "image/png": "[encoded data removed]",
            "text/plain": [
              "<Figure size 432x288 with 1 Axes>"
            ]
          },
          "metadata": {
            "tags": [],
            "needs_background": "light"
          }
        }
      ]
    },
    {
      "cell_type": "code",
      "metadata": {
        "colab": {
          "base_uri": "https://localhost:8080/",
          "height": 1000
        },
        "id": "41MwSPamHYVk",
        "outputId": "3dbc5ee8-ec7b-439d-fdb6-0884af2cec18"
      },
      "source": [
        "plt.figure(figsize=(20,16))\n",
        "sns.heatmap(diabetes_dataset.corr(), annot=True,cmap ='RdYlGn')"
      ],
      "execution_count": 17,
      "outputs": [
        {
          "output_type": "execute_result",
          "data": {
            "text/plain": [
              "<matplotlib.axes._subplots.AxesSubplot at 0x7f261b6c0750>"
            ]
          },
          "metadata": {
            "tags": []
          },
          "execution_count": 17
        },
        {
          "output_type": "display_data",
          "data": {
            "image/png": "[encoded data removed]",
            "text/plain": [
              "<Figure size 1440x1152 with 2 Axes>"
            ]
          },
          "metadata": {
            "tags": [],
            "needs_background": "light"
          }
        }
      ]
    },
    {
      "cell_type": "code",
      "metadata": {
        "colab": {
          "base_uri": "https://localhost:8080/",
          "height": 308
        },
        "id": "g88RzBQUlt_v",
        "outputId": "e8e82f15-5a07-4988-8bac-e991e8112b3a"
      },
      "source": [
        "diabetes_dataset.describe()"
      ],
      "execution_count": 18,
      "outputs": [
        {
          "output_type": "execute_result",
          "data": {
            "text/html": [
              "<div>\n",
              "<style scoped>\n",
              "    .dataframe tbody tr th:only-of-type {\n",
              "        vertical-align: middle;\n",
              "    }\n",
              "\n",
              "    .dataframe tbody tr th {\n",
              "        vertical-align: top;\n",
              "    }\n",
              "\n",
              "    .dataframe thead th {\n",
              "        text-align: right;\n",
              "    }\n",
              "</style>\n",
              "<table border=\"1\" class=\"dataframe\">\n",
              "  <thead>\n",
              "    <tr style=\"text-align: right;\">\n",
              "      <th></th>\n",
              "      <th>Pregnancies</th>\n",
              "      <th>Gender</th>\n",
              "      <th>Glucose</th>\n",
              "      <th>BloodPressure</th>\n",
              "      <th>SkinThickness</th>\n",
              "      <th>Insulin</th>\n",
              "      <th>BMI</th>\n",
              "      <th>DiabetesPedigreeFunction</th>\n",
              "      <th>Age</th>\n",
              "      <th>Outcome</th>\n",
              "      <th>CalorieIntake</th>\n",
              "      <th>Exercise</th>\n",
              "      <th>SleepDuration</th>\n",
              "    </tr>\n",
              "  </thead>\n",
              "  <tbody>\n",
              "    <tr>\n",
              "      <th>count</th>\n",
              "      <td>737.000000</td>\n",
              "      <td>737.000000</td>\n",
              "      <td>737.000000</td>\n",
              "      <td>737.000000</td>\n",
              "      <td>737.000000</td>\n",
              "      <td>737.000000</td>\n",
              "      <td>737.000000</td>\n",
              "      <td>737.000000</td>\n",
              "      <td>737.000000</td>\n",
              "      <td>737.000000</td>\n",
              "      <td>737.000000</td>\n",
              "      <td>737.000000</td>\n",
              "      <td>737.000000</td>\n",
              "    </tr>\n",
              "    <tr>\n",
              "      <th>mean</th>\n",
              "      <td>1.465400</td>\n",
              "      <td>0.317503</td>\n",
              "      <td>122.294437</td>\n",
              "      <td>72.395775</td>\n",
              "      <td>29.213052</td>\n",
              "      <td>156.210390</td>\n",
              "      <td>32.473134</td>\n",
              "      <td>0.476098</td>\n",
              "      <td>33.325645</td>\n",
              "      <td>0.352782</td>\n",
              "      <td>3654.005834</td>\n",
              "      <td>1.799186</td>\n",
              "      <td>6.957938</td>\n",
              "    </tr>\n",
              "    <tr>\n",
              "      <th>std</th>\n",
              "      <td>1.454644</td>\n",
              "      <td>0.465821</td>\n",
              "      <td>30.653594</td>\n",
              "      <td>12.177792</td>\n",
              "      <td>8.880039</td>\n",
              "      <td>85.409881</td>\n",
              "      <td>6.952511</td>\n",
              "      <td>0.332082</td>\n",
              "      <td>11.750222</td>\n",
              "      <td>0.478160</td>\n",
              "      <td>1706.079368</td>\n",
              "      <td>0.962814</td>\n",
              "      <td>1.668806</td>\n",
              "    </tr>\n",
              "    <tr>\n",
              "      <th>min</th>\n",
              "      <td>0.000000</td>\n",
              "      <td>0.000000</td>\n",
              "      <td>44.000000</td>\n",
              "      <td>24.000000</td>\n",
              "      <td>7.000000</td>\n",
              "      <td>14.000000</td>\n",
              "      <td>18.200000</td>\n",
              "      <td>0.078000</td>\n",
              "      <td>21.000000</td>\n",
              "      <td>0.000000</td>\n",
              "      <td>380.000000</td>\n",
              "      <td>0.000000</td>\n",
              "      <td>4.000000</td>\n",
              "    </tr>\n",
              "    <tr>\n",
              "      <th>25%</th>\n",
              "      <td>0.000000</td>\n",
              "      <td>0.000000</td>\n",
              "      <td>100.000000</td>\n",
              "      <td>64.000000</td>\n",
              "      <td>25.000000</td>\n",
              "      <td>120.000000</td>\n",
              "      <td>27.500000</td>\n",
              "      <td>0.245000</td>\n",
              "      <td>24.000000</td>\n",
              "      <td>0.000000</td>\n",
              "      <td>2620.000000</td>\n",
              "      <td>1.000000</td>\n",
              "      <td>6.000000</td>\n",
              "    </tr>\n",
              "    <tr>\n",
              "      <th>50%</th>\n",
              "      <td>1.000000</td>\n",
              "      <td>0.000000</td>\n",
              "      <td>118.000000</td>\n",
              "      <td>72.000000</td>\n",
              "      <td>29.213052</td>\n",
              "      <td>156.210390</td>\n",
              "      <td>32.300000</td>\n",
              "      <td>0.380000</td>\n",
              "      <td>29.000000</td>\n",
              "      <td>0.000000</td>\n",
              "      <td>2893.000000</td>\n",
              "      <td>2.000000</td>\n",
              "      <td>7.000000</td>\n",
              "    </tr>\n",
              "    <tr>\n",
              "      <th>75%</th>\n",
              "      <td>3.000000</td>\n",
              "      <td>1.000000</td>\n",
              "      <td>142.000000</td>\n",
              "      <td>80.000000</td>\n",
              "      <td>32.000000</td>\n",
              "      <td>156.210390</td>\n",
              "      <td>36.600000</td>\n",
              "      <td>0.637000</td>\n",
              "      <td>41.000000</td>\n",
              "      <td>1.000000</td>\n",
              "      <td>4100.000000</td>\n",
              "      <td>3.000000</td>\n",
              "      <td>8.000000</td>\n",
              "    </tr>\n",
              "    <tr>\n",
              "      <th>max</th>\n",
              "      <td>5.000000</td>\n",
              "      <td>1.000000</td>\n",
              "      <td>199.000000</td>\n",
              "      <td>122.000000</td>\n",
              "      <td>99.000000</td>\n",
              "      <td>846.000000</td>\n",
              "      <td>67.100000</td>\n",
              "      <td>2.420000</td>\n",
              "      <td>81.000000</td>\n",
              "      <td>1.000000</td>\n",
              "      <td>9990.000000</td>\n",
              "      <td>3.000000</td>\n",
              "      <td>15.000000</td>\n",
              "    </tr>\n",
              "  </tbody>\n",
              "</table>\n",
              "</div>"
            ],
            "text/plain": [
              "       Pregnancies      Gender  ...    Exercise  SleepDuration\n",
              "count   737.000000  737.000000  ...  737.000000     737.000000\n",
              "mean      1.465400    0.317503  ...    1.799186       6.957938\n",
              "std       1.454644    0.465821  ...    0.962814       1.668806\n",
              "min       0.000000    0.000000  ...    0.000000       4.000000\n",
              "25%       0.000000    0.000000  ...    1.000000       6.000000\n",
              "50%       1.000000    0.000000  ...    2.000000       7.000000\n",
              "75%       3.000000    1.000000  ...    3.000000       8.000000\n",
              "max       5.000000    1.000000  ...    3.000000      15.000000\n",
              "\n",
              "[8 rows x 13 columns]"
            ]
          },
          "metadata": {
            "tags": []
          },
          "execution_count": 18
        }
      ]
    },
    {
      "cell_type": "code",
      "metadata": {
        "colab": {
          "base_uri": "https://localhost:8080/"
        },
        "id": "1zTDw_9Tmis_",
        "outputId": "fbfe80b3-1957-45ea-e1d8-efdb058e3dc1"
      },
      "source": [
        "diabetes_dataset.info()"
      ],
      "execution_count": 20,
      "outputs": [
        {
          "output_type": "stream",
          "text": [
            "<class 'pandas.core.frame.DataFrame'>\n",
            "Int64Index: 737 entries, 0 to 767\n",
            "Data columns (total 13 columns):\n",
            " #   Column                    Non-Null Count  Dtype  \n",
            "---  ------                    --------------  -----  \n",
            " 0   Pregnancies               737 non-null    int64  \n",
            " 1   Gender                    737 non-null    int8   \n",
            " 2   Glucose                   737 non-null    float64\n",
            " 3   BloodPressure             737 non-null    float64\n",
            " 4   SkinThickness             737 non-null    float64\n",
            " 5   Insulin                   737 non-null    float64\n",
            " 6   BMI                       737 non-null    float64\n",
            " 7   DiabetesPedigreeFunction  737 non-null    float64\n",
            " 8   Age                       737 non-null    int64  \n",
            " 9   Outcome                   737 non-null    int64  \n",
            " 10  CalorieIntake             737 non-null    float64\n",
            " 11  Exercise                  737 non-null    int8   \n",
            " 12  SleepDuration             737 non-null    int64  \n",
            "dtypes: float64(7), int64(4), int8(2)\n",
            "memory usage: 70.5 KB\n"
          ],
          "name": "stdout"
        }
      ]
    },
    {
      "cell_type": "markdown",
      "metadata": {
        "id": "lW81TVoBlL7S"
      },
      "source": [
        "## Prepare dataset for training"
      ]
    },
    {
      "cell_type": "markdown",
      "metadata": {
        "id": "aiVcpe8alVZu"
      },
      "source": [
        "### Create X and y"
      ]
    },
    {
      "cell_type": "code",
      "metadata": {
        "colab": {
          "base_uri": "https://localhost:8080/",
          "height": 218
        },
        "id": "VlCxY63yH_a3",
        "outputId": "e6fcbb27-d3a3-4f52-a4cb-0f73e55da792"
      },
      "source": [
        "X = diabetes_dataset.copy(deep=True).drop([\"Outcome\"], axis=1)\n",
        "X.head()"
      ],
      "execution_count": 21,
      "outputs": [
        {
          "output_type": "execute_result",
          "data": {
            "text/html": [
              "<div>\n",
              "<style scoped>\n",
              "    .dataframe tbody tr th:only-of-type {\n",
              "        vertical-align: middle;\n",
              "    }\n",
              "\n",
              "    .dataframe tbody tr th {\n",
              "        vertical-align: top;\n",
              "    }\n",
              "\n",
              "    .dataframe thead th {\n",
              "        text-align: right;\n",
              "    }\n",
              "</style>\n",
              "<table border=\"1\" class=\"dataframe\">\n",
              "  <thead>\n",
              "    <tr style=\"text-align: right;\">\n",
              "      <th></th>\n",
              "      <th>Pregnancies</th>\n",
              "      <th>Gender</th>\n",
              "      <th>Glucose</th>\n",
              "      <th>BloodPressure</th>\n",
              "      <th>SkinThickness</th>\n",
              "      <th>Insulin</th>\n",
              "      <th>BMI</th>\n",
              "      <th>DiabetesPedigreeFunction</th>\n",
              "      <th>Age</th>\n",
              "      <th>CalorieIntake</th>\n",
              "      <th>Exercise</th>\n",
              "      <th>SleepDuration</th>\n",
              "    </tr>\n",
              "  </thead>\n",
              "  <tbody>\n",
              "    <tr>\n",
              "      <th>0</th>\n",
              "      <td>0</td>\n",
              "      <td>1</td>\n",
              "      <td>148.0</td>\n",
              "      <td>72.0</td>\n",
              "      <td>35.000000</td>\n",
              "      <td>156.21039</td>\n",
              "      <td>33.6</td>\n",
              "      <td>0.627</td>\n",
              "      <td>50</td>\n",
              "      <td>2508.3</td>\n",
              "      <td>3</td>\n",
              "      <td>6</td>\n",
              "    </tr>\n",
              "    <tr>\n",
              "      <th>1</th>\n",
              "      <td>1</td>\n",
              "      <td>0</td>\n",
              "      <td>85.0</td>\n",
              "      <td>66.0</td>\n",
              "      <td>29.000000</td>\n",
              "      <td>156.21039</td>\n",
              "      <td>26.6</td>\n",
              "      <td>0.351</td>\n",
              "      <td>31</td>\n",
              "      <td>2760.0</td>\n",
              "      <td>1</td>\n",
              "      <td>8</td>\n",
              "    </tr>\n",
              "    <tr>\n",
              "      <th>2</th>\n",
              "      <td>0</td>\n",
              "      <td>1</td>\n",
              "      <td>183.0</td>\n",
              "      <td>64.0</td>\n",
              "      <td>29.213052</td>\n",
              "      <td>156.21039</td>\n",
              "      <td>23.3</td>\n",
              "      <td>0.672</td>\n",
              "      <td>32</td>\n",
              "      <td>6480.0</td>\n",
              "      <td>2</td>\n",
              "      <td>8</td>\n",
              "    </tr>\n",
              "    <tr>\n",
              "      <th>4</th>\n",
              "      <td>0</td>\n",
              "      <td>1</td>\n",
              "      <td>137.0</td>\n",
              "      <td>40.0</td>\n",
              "      <td>35.000000</td>\n",
              "      <td>168.00000</td>\n",
              "      <td>43.1</td>\n",
              "      <td>2.288</td>\n",
              "      <td>33</td>\n",
              "      <td>1970.0</td>\n",
              "      <td>3</td>\n",
              "      <td>9</td>\n",
              "    </tr>\n",
              "    <tr>\n",
              "      <th>5</th>\n",
              "      <td>0</td>\n",
              "      <td>1</td>\n",
              "      <td>116.0</td>\n",
              "      <td>74.0</td>\n",
              "      <td>29.213052</td>\n",
              "      <td>156.21039</td>\n",
              "      <td>25.6</td>\n",
              "      <td>0.201</td>\n",
              "      <td>30</td>\n",
              "      <td>2760.0</td>\n",
              "      <td>2</td>\n",
              "      <td>4</td>\n",
              "    </tr>\n",
              "  </tbody>\n",
              "</table>\n",
              "</div>"
            ],
            "text/plain": [
              "   Pregnancies  Gender  Glucose  ...  CalorieIntake  Exercise  SleepDuration\n",
              "0            0       1    148.0  ...         2508.3         3              6\n",
              "1            1       0     85.0  ...         2760.0         1              8\n",
              "2            0       1    183.0  ...         6480.0         2              8\n",
              "4            0       1    137.0  ...         1970.0         3              9\n",
              "5            0       1    116.0  ...         2760.0         2              4\n",
              "\n",
              "[5 rows x 12 columns]"
            ]
          },
          "metadata": {
            "tags": []
          },
          "execution_count": 21
        }
      ]
    },
    {
      "cell_type": "code",
      "metadata": {
        "colab": {
          "base_uri": "https://localhost:8080/"
        },
        "id": "5jIfru4RKQfh",
        "outputId": "aaee8b0d-b37f-439c-a742-0b7def496914"
      },
      "source": [
        "y = diabetes_dataset[\"Outcome\"]\n",
        "# del diabetes_dataset\n",
        "y.head()"
      ],
      "execution_count": 22,
      "outputs": [
        {
          "output_type": "execute_result",
          "data": {
            "text/plain": [
              "0    1\n",
              "1    0\n",
              "2    1\n",
              "4    1\n",
              "5    0\n",
              "Name: Outcome, dtype: int64"
            ]
          },
          "metadata": {
            "tags": []
          },
          "execution_count": 22
        }
      ]
    },
    {
      "cell_type": "markdown",
      "metadata": {
        "id": "a9JjffLSlfOY"
      },
      "source": [
        "### Scale features"
      ]
    },
    {
      "cell_type": "code",
      "metadata": {
        "colab": {
          "base_uri": "https://localhost:8080/",
          "height": 305
        },
        "id": "w4IgVuO-Kdsp",
        "outputId": "33983647-cdf4-469a-c7c9-d44a37b85fdc"
      },
      "source": [
        "from sklearn.preprocessing import StandardScaler\n",
        "ss = StandardScaler()\n",
        "scaled = ss.fit_transform(X)\n",
        "X = pd.DataFrame(scaled, index=X.index, columns=X.columns)\n",
        "X.head()"
      ],
      "execution_count": 23,
      "outputs": [
        {
          "output_type": "execute_result",
          "data": {
            "text/html": [
              "<div>\n",
              "<style scoped>\n",
              "    .dataframe tbody tr th:only-of-type {\n",
              "        vertical-align: middle;\n",
              "    }\n",
              "\n",
              "    .dataframe tbody tr th {\n",
              "        vertical-align: top;\n",
              "    }\n",
              "\n",
              "    .dataframe thead th {\n",
              "        text-align: right;\n",
              "    }\n",
              "</style>\n",
              "<table border=\"1\" class=\"dataframe\">\n",
              "  <thead>\n",
              "    <tr style=\"text-align: right;\">\n",
              "      <th></th>\n",
              "      <th>Pregnancies</th>\n",
              "      <th>Gender</th>\n",
              "      <th>Glucose</th>\n",
              "      <th>BloodPressure</th>\n",
              "      <th>SkinThickness</th>\n",
              "      <th>Insulin</th>\n",
              "      <th>BMI</th>\n",
              "      <th>DiabetesPedigreeFunction</th>\n",
              "      <th>Age</th>\n",
              "      <th>CalorieIntake</th>\n",
              "      <th>Exercise</th>\n",
              "      <th>SleepDuration</th>\n",
              "    </tr>\n",
              "  </thead>\n",
              "  <tbody>\n",
              "    <tr>\n",
              "      <th>0</th>\n",
              "      <td>-1.008079</td>\n",
              "      <td>1.466142</td>\n",
              "      <td>0.839152</td>\n",
              "      <td>-0.032522</td>\n",
              "      <td>0.652123</td>\n",
              "      <td>3.329944e-16</td>\n",
              "      <td>0.162190</td>\n",
              "      <td>0.454722</td>\n",
              "      <td>1.420031</td>\n",
              "      <td>-0.671999</td>\n",
              "      <td>1.248040</td>\n",
              "      <td>-0.574416</td>\n",
              "    </tr>\n",
              "    <tr>\n",
              "      <th>1</th>\n",
              "      <td>-0.320158</td>\n",
              "      <td>-0.682062</td>\n",
              "      <td>-1.217468</td>\n",
              "      <td>-0.525557</td>\n",
              "      <td>-0.024009</td>\n",
              "      <td>3.329944e-16</td>\n",
              "      <td>-0.845324</td>\n",
              "      <td>-0.376963</td>\n",
              "      <td>-0.198058</td>\n",
              "      <td>-0.524368</td>\n",
              "      <td>-0.830616</td>\n",
              "      <td>0.624860</td>\n",
              "    </tr>\n",
              "    <tr>\n",
              "      <th>2</th>\n",
              "      <td>-1.008079</td>\n",
              "      <td>1.466142</td>\n",
              "      <td>1.981718</td>\n",
              "      <td>-0.689901</td>\n",
              "      <td>0.000000</td>\n",
              "      <td>3.329944e-16</td>\n",
              "      <td>-1.320295</td>\n",
              "      <td>0.590323</td>\n",
              "      <td>-0.112895</td>\n",
              "      <td>1.657551</td>\n",
              "      <td>0.208712</td>\n",
              "      <td>0.624860</td>\n",
              "    </tr>\n",
              "    <tr>\n",
              "      <th>4</th>\n",
              "      <td>-1.008079</td>\n",
              "      <td>1.466142</td>\n",
              "      <td>0.480060</td>\n",
              "      <td>-2.662040</td>\n",
              "      <td>0.652123</td>\n",
              "      <td>1.381294e-01</td>\n",
              "      <td>1.529531</td>\n",
              "      <td>5.459899</td>\n",
              "      <td>-0.027733</td>\n",
              "      <td>-0.987732</td>\n",
              "      <td>1.248040</td>\n",
              "      <td>1.224498</td>\n",
              "    </tr>\n",
              "    <tr>\n",
              "      <th>5</th>\n",
              "      <td>-1.008079</td>\n",
              "      <td>1.466142</td>\n",
              "      <td>-0.205480</td>\n",
              "      <td>0.131823</td>\n",
              "      <td>0.000000</td>\n",
              "      <td>3.329944e-16</td>\n",
              "      <td>-0.989254</td>\n",
              "      <td>-0.828966</td>\n",
              "      <td>-0.283220</td>\n",
              "      <td>-0.524368</td>\n",
              "      <td>0.208712</td>\n",
              "      <td>-1.773691</td>\n",
              "    </tr>\n",
              "  </tbody>\n",
              "</table>\n",
              "</div>"
            ],
            "text/plain": [
              "   Pregnancies    Gender   Glucose  ...  CalorieIntake  Exercise  SleepDuration\n",
              "0    -1.008079  1.466142  0.839152  ...      -0.671999  1.248040      -0.574416\n",
              "1    -0.320158 -0.682062 -1.217468  ...      -0.524368 -0.830616       0.624860\n",
              "2    -1.008079  1.466142  1.981718  ...       1.657551  0.208712       0.624860\n",
              "4    -1.008079  1.466142  0.480060  ...      -0.987732  1.248040       1.224498\n",
              "5    -1.008079  1.466142 -0.205480  ...      -0.524368  0.208712      -1.773691\n",
              "\n",
              "[5 rows x 12 columns]"
            ]
          },
          "metadata": {
            "tags": []
          },
          "execution_count": 23
        }
      ]
    },
    {
      "cell_type": "markdown",
      "metadata": {
        "id": "g5TFZzFcljIc"
      },
      "source": [
        "### Test-train split"
      ]
    },
    {
      "cell_type": "code",
      "metadata": {
        "id": "xksPNLZQOCtd"
      },
      "source": [
        "#importing train_test_split\n",
        "from sklearn.model_selection import train_test_split\n",
        "X_train,X_test,y_train,y_test = train_test_split(X,y,test_size=1/3,random_state=42, stratify=y)"
      ],
      "execution_count": 24,
      "outputs": []
    },
    {
      "cell_type": "markdown",
      "metadata": {
        "id": "6na3KHaIlnnv"
      },
      "source": [
        "# Model"
      ]
    },
    {
      "cell_type": "code",
      "metadata": {
        "id": "1bAUq-efOH-P"
      },
      "source": [
        "from sklearn.neighbors import KNeighborsClassifier\n",
        "\n",
        "# This will keep scores from different K values. \n",
        "test_scores = []\n",
        "\n",
        "for i in range(1,20): # K -> from 1 to 20\n",
        "    knn_model = KNeighborsClassifier(i)\n",
        "    knn_model.fit(X_train,y_train)\n",
        "    test_scores.append(knn_model.score(X_test,y_test))"
      ],
      "execution_count": 25,
      "outputs": []
    },
    {
      "cell_type": "code",
      "metadata": {
        "colab": {
          "base_uri": "https://localhost:8080/"
        },
        "id": "7aKoC1FO1hgR",
        "outputId": "e3cb89bd-81d5-4300-ff98-27515352574e"
      },
      "source": [
        "# find best performing K. \n",
        "best_score = max(test_scores)\n",
        "best_idx = test_scores.index(best_score)\n",
        "print(f\"Best score => K={best_idx + 1} with accuracy=%{best_score}\")"
      ],
      "execution_count": 27,
      "outputs": [
        {
          "output_type": "stream",
          "text": [
            "Best score => K=9 with accuracy=%0.9146341463414634\n"
          ],
          "name": "stdout"
        }
      ]
    },
    {
      "cell_type": "code",
      "metadata": {
        "colab": {
          "base_uri": "https://localhost:8080/",
          "height": 378
        },
        "id": "1W2ac61o1rYe",
        "outputId": "9a41ff92-4afe-4a77-9468-841c751149c6"
      },
      "source": [
        "# plot scores. \n",
        "plt.figure(figsize=(12,5))\n",
        "p = sns.lineplot(range(1,20),test_scores,marker='o',label='Test Score')"
      ],
      "execution_count": 29,
      "outputs": [
        {
          "output_type": "stream",
          "text": [
            "/usr/local/lib/python3.7/dist-packages/seaborn/_decorators.py:43: FutureWarning: Pass the following variables as keyword args: x, y. From version 0.12, the only valid positional argument will be `data`, and passing other arguments without an explicit keyword will result in an error or misinterpretation.\n",
            "  FutureWarning\n"
          ],
          "name": "stderr"
        },
        {
          "output_type": "display_data",
          "data": {
            "image/png": "[encoded data removed]",
            "text/plain": [
              "<Figure size 864x360 with 1 Axes>"
            ]
          },
          "metadata": {
            "tags": [],
            "needs_background": "light"
          }
        }
      ]
    },
    {
      "cell_type": "code",
      "metadata": {
        "colab": {
          "base_uri": "https://localhost:8080/"
        },
        "id": "BywU8gtr1u5_",
        "outputId": "49e7ca79-85e4-4ba9-a3b9-e24678b32838"
      },
      "source": [
        "# Create best performing model for further results. \n",
        "best_knn = KNeighborsClassifier(9)\n",
        "best_knn.fit(X_train, y_train)\n",
        "best_knn.score(X_test, y_test)"
      ],
      "execution_count": 30,
      "outputs": [
        {
          "output_type": "execute_result",
          "data": {
            "text/plain": [
              "0.9146341463414634"
            ]
          },
          "metadata": {
            "tags": []
          },
          "execution_count": 30
        }
      ]
    },
    {
      "cell_type": "code",
      "metadata": {
        "colab": {
          "base_uri": "https://localhost:8080/",
          "height": 168
        },
        "id": "rp2ki9Dr2Iw7",
        "outputId": "c39ecd78-3bc2-426f-edcb-475b9df0161c"
      },
      "source": [
        "# create confusion matrix for best model \n",
        "from sklearn.metrics import confusion_matrix\n",
        "\n",
        "y_pred = best_knn.predict(X_test)\n",
        "confusion_matrix(y_test, y_pred)\n",
        "pd.crosstab(y_test, y_pred, rownames=['True'], colnames=['Predicted'], margins=True)"
      ],
      "execution_count": 34,
      "outputs": [
        {
          "output_type": "execute_result",
          "data": {
            "text/html": [
              "<div>\n",
              "<style scoped>\n",
              "    .dataframe tbody tr th:only-of-type {\n",
              "        vertical-align: middle;\n",
              "    }\n",
              "\n",
              "    .dataframe tbody tr th {\n",
              "        vertical-align: top;\n",
              "    }\n",
              "\n",
              "    .dataframe thead th {\n",
              "        text-align: right;\n",
              "    }\n",
              "</style>\n",
              "<table border=\"1\" class=\"dataframe\">\n",
              "  <thead>\n",
              "    <tr style=\"text-align: right;\">\n",
              "      <th>Predicted</th>\n",
              "      <th>0</th>\n",
              "      <th>1</th>\n",
              "      <th>All</th>\n",
              "    </tr>\n",
              "    <tr>\n",
              "      <th>True</th>\n",
              "      <th></th>\n",
              "      <th></th>\n",
              "      <th></th>\n",
              "    </tr>\n",
              "  </thead>\n",
              "  <tbody>\n",
              "    <tr>\n",
              "      <th>0</th>\n",
              "      <td>157</td>\n",
              "      <td>2</td>\n",
              "      <td>159</td>\n",
              "    </tr>\n",
              "    <tr>\n",
              "      <th>1</th>\n",
              "      <td>19</td>\n",
              "      <td>68</td>\n",
              "      <td>87</td>\n",
              "    </tr>\n",
              "    <tr>\n",
              "      <th>All</th>\n",
              "      <td>176</td>\n",
              "      <td>70</td>\n",
              "      <td>246</td>\n",
              "    </tr>\n",
              "  </tbody>\n",
              "</table>\n",
              "</div>"
            ],
            "text/plain": [
              "Predicted    0   1  All\n",
              "True                   \n",
              "0          157   2  159\n",
              "1           19  68   87\n",
              "All        176  70  246"
            ]
          },
          "metadata": {
            "tags": []
          },
          "execution_count": 34
        }
      ]
    },
    {
      "cell_type": "code",
      "metadata": {
        "colab": {
          "base_uri": "https://localhost:8080/",
          "height": 319
        },
        "id": "s5HqHXSG2OXu",
        "outputId": "08060931-cb4c-4a10-8cdb-ddc379039599"
      },
      "source": [
        "y_pred = best_knn.predict(X_test)\n",
        "from sklearn import metrics\n",
        "cnf_matrix = metrics.confusion_matrix(y_test, y_pred)\n",
        "p = sns.heatmap(pd.DataFrame(cnf_matrix), annot=True, cmap=\"flare\" ,fmt='g')\n",
        "plt.title('Confusion matrix', y=1.1)\n",
        "plt.ylabel('Actual label')\n",
        "plt.xlabel('Predicted label')"
      ],
      "execution_count": 36,
      "outputs": [
        {
          "output_type": "execute_result",
          "data": {
            "text/plain": [
              "Text(0.5, 12.5, 'Predicted label')"
            ]
          },
          "metadata": {
            "tags": []
          },
          "execution_count": 36
        },
        {
          "output_type": "display_data",
          "data": {
            "image/png": "[encoded data removed]",
            "text/plain": [
              "<Figure size 432x288 with 2 Axes>"
            ]
          },
          "metadata": {
            "tags": [],
            "needs_background": "light"
          }
        }
      ]
    },
    {
      "cell_type": "code",
      "metadata": {
        "colab": {
          "base_uri": "https://localhost:8080/"
        },
        "id": "PGWUeLv52mxS",
        "outputId": "74460c65-1318-42d0-ca44-d73f9a87c6ff"
      },
      "source": [
        "from sklearn.metrics import classification_report\n",
        "print(classification_report(y_test,y_pred))"
      ],
      "execution_count": 37,
      "outputs": [
        {
          "output_type": "stream",
          "text": [
            "              precision    recall  f1-score   support\n",
            "\n",
            "           0       0.89      0.99      0.94       159\n",
            "           1       0.97      0.78      0.87        87\n",
            "\n",
            "    accuracy                           0.91       246\n",
            "   macro avg       0.93      0.88      0.90       246\n",
            "weighted avg       0.92      0.91      0.91       246\n",
            "\n"
          ],
          "name": "stdout"
        }
      ]
    }
  ]
}